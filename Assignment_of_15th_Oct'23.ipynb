{
  "nbformat": 4,
  "nbformat_minor": 0,
  "metadata": {
    "colab": {
      "provenance": []
    },
    "kernelspec": {
      "name": "python3",
      "display_name": "Python 3"
    },
    "language_info": {
      "name": "python"
    }
  },
  "cells": [
    {
      "cell_type": "code",
      "execution_count": null,
      "metadata": {
        "id": "pg4qWq4BvQ6-"
      },
      "outputs": [],
      "source": [
        "#Que number #1. What is a constructor in Python? Explain its purpose and usage."
      ]
    },
    {
      "cell_type": "code",
      "source": [
        "#Purpose:\n",
        "\n",
        "#The primary purpose of a constructor is to initialize the attributes of an object.\n",
        "#It allows you to set the initial values for the object's attributes based on the arguments provided when creating an instance of the class.\n",
        "#Constructors are used to ensure that the object is in a valid and consistent state right from the start.\n",
        "\n",
        "#Usage:\n",
        "\n",
        "#A constructor is defined as a special method within a class, and it is (named __init__.)\n",
        "#The __init__ method takes at least one parameter, traditionally named self, which represents the instance of the class being created.\n",
        "#You can also define additional parameters in the __init__ method to accept values for the object's attributes.\n",
        "#Inside the __init__ method, you can assign values to the object's attributes using the self keyword, which refers to the instance being initialized."
      ],
      "metadata": {
        "id": "ACdcdz0EvqSF"
      },
      "execution_count": null,
      "outputs": []
    },
    {
      "cell_type": "code",
      "source": [
        "class Person:\n",
        "    def __init__(self, name, age):\n",
        "        self.name = name\n",
        "        self.age = age\n",
        "\n",
        "person1 = Person(\"Vishal\", 22)\n",
        "\n",
        "\n",
        "print(person1.name)\n",
        "print(person1.age)\n"
      ],
      "metadata": {
        "colab": {
          "base_uri": "https://localhost:8080/"
        },
        "id": "14mp0khZw6Jp",
        "outputId": "b347ca5f-8ea3-460e-de15-ac28a60e5d77"
      },
      "execution_count": null,
      "outputs": [
        {
          "output_type": "stream",
          "name": "stdout",
          "text": [
            "Vishal\n",
            "22\n"
          ]
        }
      ]
    },
    {
      "cell_type": "code",
      "source": [
        "#2. Differentiate between a parameterless constructor and a parameterized constructor in Python.?"
      ],
      "metadata": {
        "id": "QwhaJ3lyyCrU"
      },
      "execution_count": null,
      "outputs": []
    },
    {
      "cell_type": "code",
      "source": [
        "#Parameterless Constructor:\n",
        "\n",
        "#A parameterless constructor, also known as a default constructor, does not accept any parameters other than the mandatory self parameter, which represents the instance of the class.\n",
        "#It is used when you want to create objects with default attribute values, and it initializes those attributes with predefined values.\n",
        "#Parameterless constructors are often used when you don't need to customize the object's initial state or when the initial state is consistent for all instances of the class.\n",
        "#Example of a parameterless constructor:\n",
        "\n"
      ],
      "metadata": {
        "id": "5bejBaPmypj6"
      },
      "execution_count": null,
      "outputs": []
    },
    {
      "cell_type": "code",
      "source": [
        "class Person:\n",
        "    def __init__(self):\n",
        "        self.name = \"Vishal\"\n",
        "        self.age = 30"
      ],
      "metadata": {
        "id": "zmo1ipKtzC2y"
      },
      "execution_count": null,
      "outputs": []
    },
    {
      "cell_type": "code",
      "source": [
        "#Parameterized Constructor:\n",
        "\n",
        "#A parameterized constructor accepts one or more additional parameters alongside the self parameter.\n",
        "#It is used when you want to create objects with customized attribute values, allowing you to pass specific values during object creation.\n",
        "#Parameterized constructors are beneficial when you need to create objects with varying initial states based on the input provided during instantiation.\n",
        "#Example of a parameterized constructor:"
      ],
      "metadata": {
        "id": "GP30fuZazRDO"
      },
      "execution_count": null,
      "outputs": []
    },
    {
      "cell_type": "code",
      "source": [
        "class Person:\n",
        "    def __init__(self, name, age):\n",
        "        self.name = name\n",
        "        self.age = age\n"
      ],
      "metadata": {
        "id": "vRiipAiHz7Iv"
      },
      "execution_count": null,
      "outputs": []
    },
    {
      "cell_type": "code",
      "source": [
        "#3. How do you define a constructor in a Python class? Provide an example?"
      ],
      "metadata": {
        "id": "wJilClyvz_l8"
      },
      "execution_count": null,
      "outputs": []
    },
    {
      "cell_type": "code",
      "source": [
        "class Person:\n",
        "    def __init__(self, name, age):\n",
        "        self.name = name\n",
        "        self.age = age\n",
        "\n",
        "# Creating an instance of the Person class\n",
        "person1 = Person(\"Vishal\", 22)\n",
        "\n",
        "# Accessing the object's attributes\n",
        "print(person1.name)\n",
        "print(person1.age)\n"
      ],
      "metadata": {
        "colab": {
          "base_uri": "https://localhost:8080/"
        },
        "id": "39457zrG0eBc",
        "outputId": "2c9763d2-ccf2-4d7b-e2a5-50e0e04dd573"
      },
      "execution_count": null,
      "outputs": [
        {
          "output_type": "stream",
          "name": "stdout",
          "text": [
            "Vishal\n",
            "22\n"
          ]
        }
      ]
    },
    {
      "cell_type": "code",
      "source": [
        "#4. Explain the `__init__` method in Python and its role in constructors?"
      ],
      "metadata": {
        "id": "V3ofuvcP03pw"
      },
      "execution_count": null,
      "outputs": []
    },
    {
      "cell_type": "code",
      "source": [
        "#__init__ Method:\n",
        "\n",
        "#The __init__ method is a built-in method in Python and is automatically called when you create a new instance (object) of a class.\n",
        "#It is defined within the class like any other method, but it must have at least one parameter, which is typically named self. This parameter refers to the instance of the class that is being initialized.\n",
        "#You can define additional parameters in the __init__ method to accept values that will be used to set the initial state of the object's attributes."
      ],
      "metadata": {
        "id": "A0t2dOUx1wZn"
      },
      "execution_count": null,
      "outputs": []
    },
    {
      "cell_type": "code",
      "source": [
        "#Role in Constructors:\n",
        "\n",
        "#The primary role of the __init__ method is to initialize the attributes of an object by assigning values to them.\n",
        "#It allows you to set up the initial state of the object based on the input provided during object creation.\n",
        "#The method is where you define what happens when an instance of the class is first created. You can perform tasks like attribute assignments, computations, and validations within the __init__ method."
      ],
      "metadata": {
        "id": "aeCXpOVy2Y1X"
      },
      "execution_count": null,
      "outputs": []
    },
    {
      "cell_type": "code",
      "source": [
        "class Person:\n",
        "    def __init__(self, name, age):\n",
        "        self.name = name\n",
        "        self.age = age\n",
        "\n",
        "# Creating an instance of the Person class\n",
        "person1 = Person(\"Vishal\", 22)\n"
      ],
      "metadata": {
        "id": "nC373MSK2wQf"
      },
      "execution_count": null,
      "outputs": []
    },
    {
      "cell_type": "code",
      "source": [
        "#5. In a class named `Person`, create a constructor that initializes the `name` and `age` attributes. Provide an example of creating an object of this class."
      ],
      "metadata": {
        "id": "4mM002YA2-3c"
      },
      "execution_count": null,
      "outputs": []
    },
    {
      "cell_type": "code",
      "source": [
        "class Person:\n",
        "    def __init__(self, name, age):\n",
        "        self.name = name\n",
        "        self.age = age\n",
        "\n",
        "person1 = Person(\"Vishal\", 22)\n",
        "\n",
        "print(\"Name:\", person1.name)\n",
        "print(\"Age:\", person1.age)\n"
      ],
      "metadata": {
        "colab": {
          "base_uri": "https://localhost:8080/"
        },
        "id": "jIZzVLn03lfb",
        "outputId": "43511a4e-9b0a-43fa-9a0b-b877ee2a4fec"
      },
      "execution_count": null,
      "outputs": [
        {
          "output_type": "stream",
          "name": "stdout",
          "text": [
            "Name: Vishal\n",
            "Age: 22\n"
          ]
        }
      ]
    },
    {
      "cell_type": "code",
      "source": [
        "#6. How can you call a constructor explicitly in Python? Give an example?"
      ],
      "metadata": {
        "id": "-mCBq2tt33b4"
      },
      "execution_count": null,
      "outputs": []
    },
    {
      "cell_type": "code",
      "source": [
        "class Person:\n",
        "    def __init__(self, name, age):\n",
        "        self.name = name\n",
        "        self.age = age\n",
        "\n",
        "# Explicitly calling the constructor\n",
        "person1 = Person.__init__(Person, \"Vishal\", 22)\n",
        "\n",
        "# Accessing the object's attributes\n",
        "print(\"Name:\", person1.name)\n",
        "print(\"Age:\", person1.age)\n"
      ],
      "metadata": {
        "id": "X5SlRZB56fx1"
      },
      "execution_count": null,
      "outputs": []
    },
    {
      "cell_type": "code",
      "source": [
        "#7. What is the significance of the `self` parameter in Python constructors? Explain with an example."
      ],
      "metadata": {
        "id": "uO5m296_64qF"
      },
      "execution_count": null,
      "outputs": []
    },
    {
      "cell_type": "code",
      "source": [
        "class Person:\n",
        "    def __init__(self, name, age):\n",
        "        self.name = name\n",
        "        self.age = age\n",
        "\n",
        "    def introduce(self):\n",
        "        return f\"My name is {self.name} and I am {self.age} years old.\"\n",
        "\n",
        "\n",
        "person1 = Person(\"Vishal\", 22)\n",
        "person2 = Person(\"Vishu\", 21)\n",
        "\n",
        "# Accessing attributes and calling a method using 'self'\n",
        "print(person1.introduce())\n",
        "print(person2.introduce())"
      ],
      "metadata": {
        "colab": {
          "base_uri": "https://localhost:8080/"
        },
        "id": "GWxOJP-u7H-Q",
        "outputId": "aa4cdf31-906c-4a03-94fc-1c36e263b445"
      },
      "execution_count": null,
      "outputs": [
        {
          "output_type": "stream",
          "name": "stdout",
          "text": [
            "My name is Vishal and I am 22 years old.\n",
            "My name is Vishu and I am 21 years old.\n"
          ]
        }
      ]
    },
    {
      "cell_type": "code",
      "source": [
        "#8. Discuss the concept of default constructors in Python. When are they used?"
      ],
      "metadata": {
        "id": "8nKk_0IA7WIs"
      },
      "execution_count": null,
      "outputs": []
    },
    {
      "cell_type": "code",
      "source": [
        "#Usage:\n",
        "\n",
        "#Default constructors are used when you want to create objects with basic or default initial states.\n",
        "#They are suitable for cases where the object doesn't require any specific setup during instantiation."
      ],
      "metadata": {
        "id": "wvYb6ISM8HfH"
      },
      "execution_count": null,
      "outputs": []
    },
    {
      "cell_type": "code",
      "source": [
        "class Person:\n",
        "    def __init__(self, name, age):\n",
        "        self.name = name\n",
        "        self.age = age\n",
        "\n",
        "# Creating an instance of the Person class with default values\n",
        "person1 = Person(\"Vishu\", 22)\n",
        "person2 = Person(\"Arjun\", 23)\n",
        "person3 = Person()\n",
        "\n",
        "\n",
        "print(\"Name:\", person3.name)\n",
        "print(\"Age:\", person3.age)\n"
      ],
      "metadata": {
        "id": "yFkz0lJt9s-d"
      },
      "execution_count": null,
      "outputs": []
    },
    {
      "cell_type": "code",
      "source": [
        "#9. Create a Python class called `Rectangle` with a constructor that initializes the `width` and `height` attributes. Provide a method to calculate the area of the rectangle."
      ],
      "metadata": {
        "id": "_m-SrvIS-O16"
      },
      "execution_count": null,
      "outputs": []
    },
    {
      "cell_type": "code",
      "source": [
        "class Rectangle:\n",
        "    def __init__(self, width, height):\n",
        "        self.width = width\n",
        "        self.height = height\n",
        "\n",
        "    def calculate_area(self):\n",
        "        return self.width * self.height\n",
        "\n",
        "# Creating an instance of the Rectangle class\n",
        "rectangle1 = Rectangle(6, 7)\n",
        "\n",
        "\n",
        "area = rectangle1.calculate_area()\n",
        "print(\"Area of the rectangle:\", area)\n"
      ],
      "metadata": {
        "colab": {
          "base_uri": "https://localhost:8080/"
        },
        "id": "yCgK5vEP-eOB",
        "outputId": "22b0dd5c-9b01-4c79-82e9-8cc382faa33f"
      },
      "execution_count": null,
      "outputs": [
        {
          "output_type": "stream",
          "name": "stdout",
          "text": [
            "Area of the rectangle: 42\n"
          ]
        }
      ]
    },
    {
      "cell_type": "code",
      "source": [
        "#10. How can you have multiple constructors in a Python class? Explain with an example."
      ],
      "metadata": {
        "id": "in23Pian-1J4"
      },
      "execution_count": null,
      "outputs": []
    },
    {
      "cell_type": "code",
      "source": [
        "class Rectangle:\n",
        "    def __init__(self, width=None, height=None):\n",
        "        if width is not None and height is not None:\n",
        "            self.width = width\n",
        "            self.height = height\n",
        "        else:\n",
        "            self.width = 0\n",
        "            self.height = 0\n",
        "\n",
        "    def calculate_area(self):\n",
        "        return self.width * self.height\n",
        "\n",
        "# Creating instances of the Rectangle class with different constructors\n",
        "rectangle1 = Rectangle()\n",
        "rectangle2 = Rectangle(5)\n",
        "rectangle3 = Rectangle(3, 4)\n",
        "\n",
        "\n",
        "area1 = rectangle1.calculate_area()\n",
        "area2 = rectangle2.calculate_area()\n",
        "area3 = rectangle3.calculate_area()\n"
      ],
      "metadata": {
        "id": "8I-UEKWY-91c"
      },
      "execution_count": null,
      "outputs": []
    },
    {
      "cell_type": "code",
      "source": [
        "#11. What is method overloading, and how is it related to constructors in Python?"
      ],
      "metadata": {
        "id": "p5EFMqba_Say"
      },
      "execution_count": null,
      "outputs": []
    },
    {
      "cell_type": "code",
      "source": [
        "class Example:\n",
        "    def method(self, param1):\n",
        "        print(\"Method with one parameter\")\n",
        "\n",
        "    def method(self, param1, param2):\n",
        "        print(\"Method with two parameters\")\n",
        "\n",
        "obj = Example()\n",
        "obj.method(1, 2)\n"
      ],
      "metadata": {
        "colab": {
          "base_uri": "https://localhost:8080/"
        },
        "id": "CU6qgtcV_wB-",
        "outputId": "834091a2-f908-4545-88cf-ee4c77672ccf"
      },
      "execution_count": null,
      "outputs": [
        {
          "output_type": "stream",
          "name": "stdout",
          "text": [
            "Method with two parameters\n"
          ]
        }
      ]
    },
    {
      "cell_type": "code",
      "source": [
        "#12. Explain the use of the `super()` function in Python constructors. Provide an example?"
      ],
      "metadata": {
        "id": "EOt4XaFS_54F"
      },
      "execution_count": null,
      "outputs": []
    },
    {
      "cell_type": "code",
      "source": [
        "#Initialization of Parent Class:\n",
        "\n",
        "#When you create a constructor in a subclass, it usually initializes the attributes specific to the subclass.\n",
        "#However, you may want to perform some common initialization tasks defined in the parent class before adding the subclass-specific behavior.\n",
        "#This is where super() comes in handy. It allows you to call the constructor of the parent class so that you can reuse and extend the initialization logic of the superclass."
      ],
      "metadata": {
        "id": "mMKHf149AVOC"
      },
      "execution_count": null,
      "outputs": []
    },
    {
      "cell_type": "code",
      "source": [
        "class Shape:\n",
        "    def __init__(self, color):\n",
        "        self.color = color\n",
        "\n",
        "class Rectangle(Shape):\n",
        "    def __init__(self, color, width, height):\n",
        "        super().__init__(color)\n",
        "        self.width = width\n",
        "        self.height = height\n",
        "\n",
        "    def area(self):\n",
        "        return self.width * self.height\n",
        "\n",
        "# Creating an instance of the Rectangle class\n",
        "rectangle = Rectangle(\"red\", 5, 3)\n",
        "\n",
        "\n",
        "print(\"Color:\", rectangle.color)\n",
        "print(\"Area:\", rectangle.area())\n"
      ],
      "metadata": {
        "colab": {
          "base_uri": "https://localhost:8080/"
        },
        "id": "OWhdqdnZAkRo",
        "outputId": "c157454e-f6ed-4598-acd2-246b6b992ee3"
      },
      "execution_count": null,
      "outputs": [
        {
          "output_type": "stream",
          "name": "stdout",
          "text": [
            "Color: red\n",
            "Area: 15\n"
          ]
        }
      ]
    },
    {
      "cell_type": "code",
      "source": [
        "#13. Create a class called `Book` with a constructor that initializes the `title`, `author`, and `published_year` attributes. Provide a method to display book details."
      ],
      "metadata": {
        "id": "FBOOrNmHAvXE"
      },
      "execution_count": null,
      "outputs": []
    },
    {
      "cell_type": "code",
      "source": [
        "class Book:\n",
        "    def __init__(self, title, author, published_year):\n",
        "        self.title = title\n",
        "        self.author = author\n",
        "        self.published_year = published_year\n",
        "\n",
        "    def display_details(self):\n",
        "        return f\"Title: {self.title}\\nAuthor: {self.author}\\nPublished Year: {self.published_year}\"\n",
        "\n",
        "\n",
        "book1 = Book(\"The Great Gatsby\", \"F. Scott Fitzgerald\", 1952)\n",
        "\n",
        "\n",
        "details = book1.display_details()\n",
        "print(details)\n"
      ],
      "metadata": {
        "colab": {
          "base_uri": "https://localhost:8080/"
        },
        "id": "U5daWNuMA9mV",
        "outputId": "3a905084-4a4a-4032-c575-830bce02b764"
      },
      "execution_count": null,
      "outputs": [
        {
          "output_type": "stream",
          "name": "stdout",
          "text": [
            "Title: The Great Gatsby\n",
            "Author: F. Scott Fitzgerald\n",
            "Published Year: 1952\n"
          ]
        }
      ]
    },
    {
      "cell_type": "code",
      "source": [
        "#14. Discuss the differences between constructors and regular methods in Python classes?\n",
        "\n",
        "#constructors:-"
      ],
      "metadata": {
        "id": "JNDGYOxFBf0c"
      },
      "execution_count": null,
      "outputs": []
    },
    {
      "cell_type": "code",
      "source": [
        "class MyClass:\n",
        "    def __init__(self, value):\n",
        "        self.value = value\n",
        "\n",
        "obj = MyClass(42)"
      ],
      "metadata": {
        "id": "9-HWOnUZBzPg"
      },
      "execution_count": null,
      "outputs": []
    },
    {
      "cell_type": "code",
      "source": [
        "class MyClass:\n",
        "    def __init__(self, value):\n",
        "        self.value = value\n",
        "\n",
        "    def my_method(self):\n",
        "        return self.value\n",
        "\n",
        "obj = MyClass(42)\n",
        "result = obj.my_method()\n",
        "\n"
      ],
      "metadata": {
        "id": "3mU31XBM5FN_"
      },
      "execution_count": null,
      "outputs": []
    },
    {
      "cell_type": "code",
      "source": [
        "class MyClass:\n",
        "    def __init__(self, value):\n",
        "        self.value = value\n",
        "\n",
        "    def my_method(self):\n",
        "        return self.value\n",
        "\n",
        "obj = MyClass(42)\n",
        "result = obj.my_method()"
      ],
      "metadata": {
        "id": "3cGXU9ly5c5T"
      },
      "execution_count": null,
      "outputs": []
    },
    {
      "cell_type": "code",
      "source": [
        "#15. Explain the role of the `self` parameter in instance variable initialization within a constructor."
      ],
      "metadata": {
        "id": "SIKxqL2D_phk"
      },
      "execution_count": null,
      "outputs": []
    },
    {
      "cell_type": "code",
      "source": [
        "#self refers to the object being created:\n",
        "#When you create an object from a class, the self parameter in the constructor refers to that newly created object.\n",
        "#It distinguishes one object from another, allowing you to set individual attributes and properties unique to each instance of the class."
      ],
      "metadata": {
        "id": "6ppeiWLUC3VK"
      },
      "execution_count": null,
      "outputs": []
    },
    {
      "cell_type": "code",
      "source": [
        "class Person:\n",
        "    def __init__(self, name, age):\n",
        "        self.name = name\n",
        "        self.age = age"
      ],
      "metadata": {
        "id": "-RFl62MO_2Wj"
      },
      "execution_count": null,
      "outputs": []
    },
    {
      "cell_type": "code",
      "source": [
        "#16. How do you prevent a class from having multiple instances by using constructors in Python? Provide an example."
      ],
      "metadata": {
        "id": "qsyP2UwuAO9b"
      },
      "execution_count": null,
      "outputs": []
    },
    {
      "cell_type": "code",
      "source": [
        "class Singleton:\n",
        "    _instance = None  # Private class attribute to store the single instance.\n",
        "\n",
        "    def __new__(cls):\n",
        "        # If an instance doesn't exist, create one; otherwise, return the existing instance.\n",
        "        if cls._instance is None:\n",
        "            cls._instance = super(Singleton, cls).__new__(cls)\n",
        "            cls._instance.value = 0  # Initialize some attribute for demonstration.\n",
        "        return cls._instance\n",
        "\n",
        "    def get_value(self):\n",
        "        return self.value\n",
        "\n",
        "# Example usage:\n",
        "obj1 = Singleton()\n",
        "obj1.value = 42\n",
        "\n",
        "obj2 = Singleton()\n",
        "\n",
        "print(obj1.get_value())  # This will print 42, as obj1 and obj2 refer to the same instance.\n",
        "print(obj2.get_value())  # This will also print 42, as obj1 and obj2 are the same object.\n"
      ],
      "metadata": {
        "colab": {
          "base_uri": "https://localhost:8080/"
        },
        "id": "q0_nFd-BENuM",
        "outputId": "e73ad966-195f-490a-a30d-3b4984b2dfd3"
      },
      "execution_count": null,
      "outputs": [
        {
          "output_type": "stream",
          "name": "stdout",
          "text": [
            "42\n",
            "42\n"
          ]
        }
      ]
    },
    {
      "cell_type": "code",
      "source": [
        "#17. Create a Python class called `Student` with a constructor that takes a list of subjects as a parameter and initializes the `subjects` attribute."
      ],
      "metadata": {
        "id": "MXfxNKQkEV5O"
      },
      "execution_count": null,
      "outputs": []
    },
    {
      "cell_type": "code",
      "source": [
        "class Student:\n",
        "    def __init__(self, subjects):\n",
        "        self.subjects = subjects\n",
        "\n",
        "# Example usage:\n",
        "student1 = Student([\"Math\", \"Science\", \"History\"])\n",
        "student2 = Student([\"English\", \"Art\"])\n",
        "\n",
        "print(student1.subjects)\n",
        "print(student2.subjects)\n"
      ],
      "metadata": {
        "colab": {
          "base_uri": "https://localhost:8080/"
        },
        "id": "sdsBCT_cEdm_",
        "outputId": "6124a2f1-7541-4c7d-cd92-1f7ca8e024c0"
      },
      "execution_count": null,
      "outputs": [
        {
          "output_type": "stream",
          "name": "stdout",
          "text": [
            "['Math', 'Science', 'History']\n",
            "['English', 'Art']\n"
          ]
        }
      ]
    },
    {
      "cell_type": "code",
      "source": [
        "#18. What is the purpose of the `__del__` method in Python classes, and how does it relate to constructors?"
      ],
      "metadata": {
        "id": "TDWMG4_UEjNm"
      },
      "execution_count": null,
      "outputs": []
    },
    {
      "cell_type": "code",
      "source": [
        "#The __del__ method is called when an object is being destroyed and is used for resource cleanup and finalization."
      ],
      "metadata": {
        "id": "aE-avi7TErOh"
      },
      "execution_count": null,
      "outputs": []
    },
    {
      "cell_type": "code",
      "source": [
        "class MyClass:\n",
        "    def __init__(self, name):\n",
        "        self.name = name\n",
        "        print(f\"{self.name} is created.\")\n",
        "\n",
        "    def __del__(self):\n",
        "        print(f\"{self.name} is being destroyed.\")\n",
        "\n",
        "\n",
        "obj1 = MyClass(\"Object 1\")\n",
        "obj2 = MyClass(\"Object 2\")\n",
        "\n",
        "del obj1\n",
        "del obj2\n",
        "\n"
      ],
      "metadata": {
        "colab": {
          "base_uri": "https://localhost:8080/"
        },
        "id": "z3xCLKBoE31k",
        "outputId": "2737da13-ca17-4056-d7ea-92122f910205"
      },
      "execution_count": null,
      "outputs": [
        {
          "output_type": "stream",
          "name": "stdout",
          "text": [
            "Object 1 is created.\n",
            "Object 2 is created.\n",
            "Object 1 is being destroyed.\n",
            "Object 2 is being destroyed.\n"
          ]
        }
      ]
    },
    {
      "cell_type": "code",
      "source": [
        "#19. Explain the use of constructor chaining in Python. Provide a practical example."
      ],
      "metadata": {
        "id": "FK_1gfJGE-oU"
      },
      "execution_count": null,
      "outputs": []
    },
    {
      "cell_type": "code",
      "source": [
        "class Student:\n",
        "    def __init__(self, name, age, grade=None):\n",
        "        self.name = name\n",
        "        self.age = age\n",
        "        if grade is None:\n",
        "            self.grade = \"N/A\"\n",
        "        else:\n",
        "            self.grade = grade\n",
        "\n",
        "    @classmethod\n",
        "    def from_birth_year(cls, name, birth_year, grade=None):\n",
        "        age = cls.calculate_age(birth_year)\n",
        "        return cls(name, age, grade)\n",
        "\n",
        "    @staticmethod\n",
        "    def calculate_age(birth_year):\n",
        "        current_year = 2023  # Assuming the current year is 2023.\n",
        "        return current_year - birth_year\n",
        "\n",
        "# Example usage:\n",
        "student1 = Student(\"Vishal\", 18, \"A\")\n",
        "\n",
        "# Creating a student object using a birth year and constructor chaining.\n",
        "student2 = Student.from_birth_year(\"Cad\", 2000, \"B\")\n",
        "\n",
        "print(student1.name, student1.age, student1.grade)  # Output: Vishal 18 A\n",
        "print(student2.name, student2.age, student2.grade)  # Output: Cad 23 B\n"
      ],
      "metadata": {
        "colab": {
          "base_uri": "https://localhost:8080/"
        },
        "id": "zf06VExlF3S0",
        "outputId": "c9c0791f-2e7b-4c33-a32e-963e26baa6ca"
      },
      "execution_count": null,
      "outputs": [
        {
          "output_type": "stream",
          "name": "stdout",
          "text": [
            "Vishal 18 A\n",
            "Cad 23 B\n"
          ]
        }
      ]
    },
    {
      "cell_type": "code",
      "source": [
        "class Car:\n",
        "    def __init__(self, make, model):\n",
        "        self.make = make\n",
        "        self.model = model\n",
        "\n",
        "    def display_info(self):\n",
        "        return f\"Make: {self.make}, Model: {self.model}\"\n",
        "\n",
        "\n",
        "car1 = Car(\"Toyota\", \"Camry\")\n",
        "car2 = Car(\"Honda\", \"Civic\")\n",
        "\n",
        "print(car1.display_info())\n",
        "print(car2.display_info())"
      ],
      "metadata": {
        "colab": {
          "base_uri": "https://localhost:8080/"
        },
        "id": "o9VOfumPFkeB",
        "outputId": "b5ba2423-b9c6-4123-d490-586aa3e2a141"
      },
      "execution_count": null,
      "outputs": [
        {
          "output_type": "stream",
          "name": "stdout",
          "text": [
            "Make: Toyota, Model: Camry\n",
            "Make: Honda, Model: Civic\n"
          ]
        }
      ]
    },
    {
      "cell_type": "code",
      "source": [
        "#Inheritance:"
      ],
      "metadata": {
        "id": "vVZc2N_8C7Ow"
      },
      "execution_count": null,
      "outputs": []
    },
    {
      "cell_type": "code",
      "source": [
        "#1. What is inheritance in Python? Explain its significance in object-oriented programming."
      ],
      "metadata": {
        "id": "RItrYuOHGkuu"
      },
      "execution_count": null,
      "outputs": []
    },
    {
      "cell_type": "code",
      "source": [
        "#Inheritance is a fundamental concept in object-oriented programming (OOP) that allows one class to inherit the attributes and methods of another class.\n",
        "# In Python, as in many other object-oriented programming languages, inheritance enables the creation of a new class (called a \"subclass\" or \"derived class\") based on an existing class (called a \"base class\" or \"parent class\").\n",
        "#The significance of inheritance in OOP can be summarized as follows:"
      ],
      "metadata": {
        "id": "uJZnH0JyGyVZ"
      },
      "execution_count": null,
      "outputs": []
    },
    {
      "cell_type": "code",
      "source": [
        "class Animal:\n",
        "    def __init__(self, name):\n",
        "        self.name = name\n",
        "\n",
        "    def speak(self):\n",
        "        pass\n",
        "\n",
        "class Dog(Animal):\n",
        "    def speak(self):\n",
        "        return f\"{self.name} says Woof!\"\n",
        "\n",
        "class Cat(Animal):\n",
        "    def speak(self):\n",
        "        return f\"{self.name} says Meow!\"\n",
        "\n",
        "dog = Dog(\"Buddy\")\n",
        "cat = Cat(\"Whiskers\")\n",
        "\n",
        "print(dog.speak())\n",
        "print(cat.speak())"
      ],
      "metadata": {
        "colab": {
          "base_uri": "https://localhost:8080/"
        },
        "id": "yaQntIoFJrkc",
        "outputId": "6bb2653e-7203-45cc-af4d-d6488001f95f"
      },
      "execution_count": null,
      "outputs": [
        {
          "output_type": "stream",
          "name": "stdout",
          "text": [
            "Buddy says Woof!\n",
            "Whiskers says Meow!\n"
          ]
        }
      ]
    },
    {
      "cell_type": "code",
      "source": [
        "#2. Differentiate between single inheritance and multiple inheritance in Python. Provide examples for each."
      ],
      "metadata": {
        "id": "PW0_bQdtJwY2"
      },
      "execution_count": null,
      "outputs": []
    },
    {
      "cell_type": "code",
      "source": [
        "#Single Inheritance:\n",
        "\n",
        "#Single inheritance involves a class inheriting from only one base class.\n",
        "#In other words, a subclass can have only one parent class from which it inherits attributes and methods.\n",
        "#This is the simpler and more straightforward form of inheritance."
      ],
      "metadata": {
        "id": "jhVmjNIHDLxT"
      },
      "execution_count": null,
      "outputs": []
    },
    {
      "cell_type": "code",
      "source": [
        "class Animal:\n",
        "    def __init__(self, name):\n",
        "        self.name = name\n",
        "\n",
        "    def speak(self):\n",
        "        pass\n",
        "\n",
        "class Dog(Animal):\n",
        "    def speak(self):\n",
        "        return f\"{self.name} says Wow!\"\n",
        "\n",
        "class Cat(Animal):\n",
        "    def speak(self):\n",
        "        return f\"{self.name} says Osm!\"\n",
        "\n",
        "my_dog = Dog(\"Nuri\")\n",
        "my_cat = Cat(\"Sikhar\")\n",
        "\n",
        "print(my_dog.speak())\n",
        "print(my_cat.speak())\n"
      ],
      "metadata": {
        "colab": {
          "base_uri": "https://localhost:8080/"
        },
        "id": "EacVwF8YDaCS",
        "outputId": "2d6348bb-0706-474f-859e-bdccdefba2b1"
      },
      "execution_count": null,
      "outputs": [
        {
          "output_type": "stream",
          "name": "stdout",
          "text": [
            "Nuri says Wow!\n",
            "Sikhar says Osm!\n"
          ]
        }
      ]
    },
    {
      "cell_type": "code",
      "source": [
        "#Multiple Inheritance:\n",
        "\n",
        "#Multiple inheritance allows a class to inherit from more than one base class.\n",
        "# In this case, a subclass can inherit attributes and methods from multiple parent classes.\n",
        " #This can lead to complex inheritance hierarchies."
      ],
      "metadata": {
        "id": "jp5_tdzcDfaO"
      },
      "execution_count": null,
      "outputs": []
    },
    {
      "cell_type": "code",
      "source": [
        "class A:\n",
        "    def method_a(self):\n",
        "        return \"Method A from class A\"\n",
        "\n",
        "class B:\n",
        "    def method_b(self):\n",
        "        return \"Method B from class B\"\n",
        "\n",
        "class C(A, B):\n",
        "    def method_c(self):\n",
        "        return \"Method C from class C\"\n",
        "\n",
        "my_instance = C()\n",
        "\n",
        "print(my_instance.method_a())  # Output: Method A from class A\n",
        "print(my_instance.method_b())  # Output: Method B from class B\n",
        "print(my_instance.method_c())  # Output: Method C from class C\n"
      ],
      "metadata": {
        "colab": {
          "base_uri": "https://localhost:8080/"
        },
        "id": "Hmo3zYgUEHZd",
        "outputId": "b675b705-5bd6-4ed8-fb30-7466debd5881"
      },
      "execution_count": null,
      "outputs": [
        {
          "output_type": "stream",
          "name": "stdout",
          "text": [
            "Method A from class A\n",
            "Method B from class B\n",
            "Method C from class C\n"
          ]
        }
      ]
    },
    {
      "cell_type": "code",
      "source": [
        "#3. Create a Python class called `Vehicle` with attributes `color` and `speed`. Then, create a child class called `Car` that inherits from `Vehicle` and adds a `brand` attribute. Provide an example of creating a `Car` object."
      ],
      "metadata": {
        "id": "uD3bX1PKENE6"
      },
      "execution_count": null,
      "outputs": []
    },
    {
      "cell_type": "code",
      "source": [
        "class Vehicle:\n",
        "    def __init__(self, color, speed):\n",
        "        self.color = color\n",
        "        self.speed = speed\n",
        "\n",
        "class Car(Vehicle):\n",
        "    def __init__(self, color, speed, brand):\n",
        "        super().__init__(color, speed)\n",
        "        self.brand = brand\n",
        "\n",
        "\n",
        "my_car = Car(\"Red\", 120, \"Toyota\")\n",
        "\n",
        "\n",
        "print(f\"Brand: {my_car.brand}\")\n",
        "print(f\"Color: {my_car.color}\")\n",
        "print(f\"Speed: {my_car.speed}\")\n"
      ],
      "metadata": {
        "colab": {
          "base_uri": "https://localhost:8080/"
        },
        "id": "7g1eiJwWEwOT",
        "outputId": "dc9fd947-bee4-49ef-d772-db24d58f861c"
      },
      "execution_count": null,
      "outputs": [
        {
          "output_type": "stream",
          "name": "stdout",
          "text": [
            "Brand: Toyota\n",
            "Color: Red\n",
            "Speed: 120\n"
          ]
        }
      ]
    },
    {
      "cell_type": "code",
      "source": [
        "#4. Explain the concept of method overriding in inheritance. Provide a practical example."
      ],
      "metadata": {
        "id": "YtgfEW8PFV4Z"
      },
      "execution_count": null,
      "outputs": []
    },
    {
      "cell_type": "code",
      "source": [
        "#Method overriding is a concept in object-oriented programming and inheritance where a subclass provides a specific implementation for a method that is already defined in its parent class. This allows a subclass to customize or extend the behavior of inherited methods while preserving the method's name and parameters. Method overriding is a way to achieve polymorphism, where objects of different classes can respond to the same method call in a way that is appropriate for their specific class.\n",
        "\n",
        "#Key points about method overriding:\n",
        "\n"
      ],
      "metadata": {
        "id": "fLJO-p0AGPaa"
      },
      "execution_count": null,
      "outputs": []
    },
    {
      "cell_type": "code",
      "source": [
        "#1. The method in the subclass must have the same name, parameters, and return type as the method in the parent class.\n",
        "\n",
        "#2.  The method in the subclass should be tagged with the @override decorator in Python to ensure that it is indeed intended to override a method from the parent class."
      ],
      "metadata": {
        "id": "YcomcRMkG7qY"
      },
      "execution_count": null,
      "outputs": []
    },
    {
      "cell_type": "code",
      "source": [
        "class Animal:\n",
        "    def speak(self):\n",
        "        return \"Some generic animal sound\"\n",
        "\n",
        "class Dog(Animal):\n",
        "    def speak(self):\n",
        "        return \"Woof! Woof!\"\n",
        "\n",
        "class Cat(Animal):\n",
        "    def speak(self):\n",
        "        return \"Meow! Meow!\"\n",
        "\n",
        "class Snake(Animal):\n",
        "    .\n",
        "    pass\n",
        "\n",
        "# Creating instances of different animals\n",
        "my_dog = Dog()\n",
        "my_cat = Cat()\n",
        "my_snake = Snake()\n",
        "\n",
        "\n",
        "print(\"Dog says:\", my_dog.speak())\n",
        "print(\"Cat says:\", my_cat.speak())\n",
        "print(\"Snake says:\", my_snake.speak())\n"
      ],
      "metadata": {
        "colab": {
          "base_uri": "https://localhost:8080/"
        },
        "id": "TizdjxiWGB3h",
        "outputId": "9e4176eb-6597-4236-ef42-25786b1eb511"
      },
      "execution_count": null,
      "outputs": [
        {
          "output_type": "stream",
          "name": "stdout",
          "text": [
            "Dog says: Woof! Woof!\n",
            "Cat says: Meow! Meow!\n",
            "Snake says: Some generic animal sound\n"
          ]
        }
      ]
    },
    {
      "cell_type": "code",
      "source": [
        "#5. How can you access the methods and attributes of a parent class from a child class in Python? Give an example."
      ],
      "metadata": {
        "id": "juaM5MGXGQdX"
      },
      "execution_count": null,
      "outputs": []
    },
    {
      "cell_type": "code",
      "source": [
        "class Parent:\n",
        "    def __init__(self, name):\n",
        "        self.name = name\n",
        "\n",
        "    def greet(self):\n",
        "        return f\"Hello, I am {self.name}\"\n",
        "\n",
        "class Child(Parent):\n",
        "    def __init__(self, name, age):\n",
        "        Parent.__init__(self, name)  # Call the parent class constructor directly\n",
        "        self.age = age\n",
        "\n",
        "    def greet(self):\n",
        "        parent_greeting = Parent.greet(self)  # Call the parent class's 'greet' method directly\n",
        "        return f\"{parent_greeting} and I am {self.age} years old\"\n",
        "\n",
        "# Create an instance of the Child class\n",
        "child_instance = Child(\"Vishu\", 7)\n",
        "\n",
        "# Access methods and attributes by directly referencing the parent class\n",
        "print(child_instance.greet())  # Output: Hello, I am Alice and I am 5 years old\n",
        "print(child_instance.name)  # Output: Alice\n",
        "print(child_instance.age)  # Output: 5\n"
      ],
      "metadata": {
        "colab": {
          "base_uri": "https://localhost:8080/"
        },
        "id": "U0_KjNRpHfU5",
        "outputId": "44e7710a-15bc-45c5-c69e-90d6cf94d4b7"
      },
      "execution_count": null,
      "outputs": [
        {
          "output_type": "stream",
          "name": "stdout",
          "text": [
            "Hello, I am Vishu and I am 7 years old\n",
            "Vishu\n",
            "7\n"
          ]
        }
      ]
    },
    {
      "cell_type": "code",
      "source": [
        "#6. Discuss the use of the `super()` function in Python inheritance. When and why is it used? Provide an example."
      ],
      "metadata": {
        "id": "dTlugdO9H58S"
      },
      "execution_count": null,
      "outputs": []
    },
    {
      "cell_type": "code",
      "source": [
        "class Parent:\n",
        "    def greet(self):\n",
        "        return \"Hello from Parent\"\n",
        "\n",
        "class Child(Parent):\n",
        "    def greet(self):\n",
        "        parent_greeting = super().greet()  # Call the parent class's 'greet' method using 'super()'\n",
        "        return f\"Child says: {parent_greeting}\"\n",
        "\n",
        "child_instance = Child()\n",
        "print(child_instance.greet())  # Output: Child says: Hello from Parent\n"
      ],
      "metadata": {
        "colab": {
          "base_uri": "https://localhost:8080/"
        },
        "id": "69G4_IvQIpbL",
        "outputId": "f2b3e0d8-8e13-4ca3-d951-be0bfec45452"
      },
      "execution_count": null,
      "outputs": [
        {
          "output_type": "stream",
          "name": "stdout",
          "text": [
            "Child says: Hello from Parent\n"
          ]
        }
      ]
    },
    {
      "cell_type": "code",
      "source": [
        "#7. Create a Python class called `Animal` with a method `speak()`. Then, create child classes `Dog` and `Cat` that inherit from `Animal` and override the `speak()` method. Provide an example of using these classes."
      ],
      "metadata": {
        "id": "XJ1l2oMsIvTM"
      },
      "execution_count": null,
      "outputs": []
    },
    {
      "cell_type": "code",
      "source": [
        "class Animal:\n",
        "    def speak(self):\n",
        "        return \"Some generic animal sound\"\n",
        "\n",
        "class Dog(Animal):\n",
        "    def speak(self):\n",
        "        return \"Woof! Woof!\"\n",
        "\n",
        "class Cat(Animal):\n",
        "    def speak(self):\n",
        "        return \"Meow! Meow!\"\n",
        "\n",
        "# Create instances of Dog and Cat\n",
        "my_dog = Dog()\n",
        "my_cat = Cat()\n",
        "\n",
        "# Call the speak() method for each animal\n",
        "print(\"Dog says:\", my_dog.speak())  # Output: Dog says: Woof! Woof!\n",
        "print(\"Cat says:\", my_cat.speak())  # Output: Cat says: Meow! Meow!\n"
      ],
      "metadata": {
        "colab": {
          "base_uri": "https://localhost:8080/"
        },
        "id": "z3jerJ83I32T",
        "outputId": "ec605bbc-6fb3-4c7f-ac8e-a4833ba4ec63"
      },
      "execution_count": null,
      "outputs": [
        {
          "output_type": "stream",
          "name": "stdout",
          "text": [
            "Dog says: Woof! Woof!\n",
            "Cat says: Meow! Meow!\n"
          ]
        }
      ]
    },
    {
      "cell_type": "code",
      "source": [
        "#8. Explain the role of the `isinstance()` function in Python and how it relates to inheritance."
      ],
      "metadata": {
        "id": "w-ejNDerJZ9z"
      },
      "execution_count": null,
      "outputs": []
    },
    {
      "cell_type": "code",
      "source": [
        "#The isinstance() function in Python is used to determine if an object is an instance of a particular class or a subclass of that class. It checks whether an object belongs to a specific class or one of its derived classes within the class hierarchy. This function plays a crucial role in inheritance by allowing you to verify the type of an object and perform conditional operations based on its class."
      ],
      "metadata": {
        "id": "c6JPY0H8KQ6U"
      },
      "execution_count": null,
      "outputs": []
    },
    {
      "cell_type": "code",
      "source": [
        "#Checking Object Type: You can use isinstance() to determine the type of an object, which is essential when dealing with polymorphism and class hierarchies. It helps you ensure that an object is of the expected type before calling specific methods or accessing attributes."
      ],
      "metadata": {
        "id": "c-7xC9h9KkTg"
      },
      "execution_count": null,
      "outputs": []
    },
    {
      "cell_type": "code",
      "source": [
        "#Exmaple:-\n",
        "\n",
        "class Animal:\n",
        "    def speak(self):\n",
        "        return \"Some generic animal sound\"\n",
        "\n",
        "class Dog(Animal):\n",
        "    def speak(self):\n",
        "        return \"Woof! Woof!\"\n",
        "\n",
        "class Cat(Animal):\n",
        "    def speak(self):\n",
        "        return \"Meow! Meow!\"\n",
        "\n",
        "# Create instances of Animal, Dog, and Cat\n",
        "generic_animal = Animal()\n",
        "my_dog = Dog()\n",
        "my_cat = Cat()\n",
        "\n",
        "\n",
        "print(isinstance(generic_animal, Animal))\n",
        "print(isinstance(my_dog, Animal))\n",
        "print(isinstance(my_cat, Animal))\n",
        "\n",
        "print(isinstance(generic_animal, Dog))\n",
        "print(isinstance(my_dog, Dog))\n",
        "print(isinstance(my_cat, Dog))"
      ],
      "metadata": {
        "colab": {
          "base_uri": "https://localhost:8080/"
        },
        "id": "cn6SJMoRMMKL",
        "outputId": "0679fdb1-8ee7-40ae-cd4f-a0c50187b536"
      },
      "execution_count": null,
      "outputs": [
        {
          "output_type": "stream",
          "name": "stdout",
          "text": [
            "True\n",
            "True\n",
            "True\n",
            "False\n",
            "True\n",
            "False\n"
          ]
        }
      ]
    },
    {
      "cell_type": "code",
      "source": [
        "#9. What is the purpose of the `issubclass()` function in Python? Provide an example."
      ],
      "metadata": {
        "id": "KT61xPvrMR2b"
      },
      "execution_count": null,
      "outputs": []
    },
    {
      "cell_type": "code",
      "source": [
        "class Animal:\n",
        "    pass\n",
        "\n",
        "class Mammal(Animal):\n",
        "    pass\n",
        "\n",
        "class Bird(Animal):\n",
        "    pass\n",
        "\n",
        "class Dog(Mammal):\n",
        "    pass\n",
        "\n",
        "\n",
        "print(issubclass(Dog, Animal))  # Output: True\n",
        "\n",
        "\n",
        "print(issubclass(Bird, Mammal))\n"
      ],
      "metadata": {
        "colab": {
          "base_uri": "https://localhost:8080/"
        },
        "id": "T2q7rRiBMxXM",
        "outputId": "31e8d17d-ca74-43a1-97b7-1912e883cad6"
      },
      "execution_count": null,
      "outputs": [
        {
          "output_type": "stream",
          "name": "stdout",
          "text": [
            "True\n",
            "False\n"
          ]
        }
      ]
    },
    {
      "cell_type": "code",
      "source": [
        "#10. Discuss the concept of constructor inheritance in Python. How are constructors inherited in child classes?"
      ],
      "metadata": {
        "id": "0K92mv-CM4F_"
      },
      "execution_count": null,
      "outputs": []
    },
    {
      "cell_type": "code",
      "source": [
        "#In Python, constructor inhеritancе rеfеrs to how child classеs inhеrit thе constructors of thеir parеnt classеs. Constructors arе spеcial mеthods usеd to initializе objеcts of a class. Whеn you crеatе a child class that inhеrits from a parеnt class, it can inhеrit thе constructor (or __init__ mеthod) of thе parеnt class, and you can also еxtеnd or ovеrridе thе inhеritеd constructor as nееdеd."
      ],
      "metadata": {
        "id": "LBF0BsmhNFDK"
      },
      "execution_count": null,
      "outputs": []
    },
    {
      "cell_type": "code",
      "source": [
        "#1.  Inhеritancе of Constructors: Whеn a child class is crеatеd by inhеriting from a parеnt class, it automatically inhеrits thе constructor of thе parеnt class. This mеans that thе child class can utilizе thе constructor of thе parеnt class to initializе attributеs that arе common to both thе parеnt and child classеs."
      ],
      "metadata": {
        "id": "f9WROVugN_pk"
      },
      "execution_count": null,
      "outputs": []
    },
    {
      "cell_type": "code",
      "source": [
        "class Parent:\n",
        "    def __init__(self, name):\n",
        "        self.name = name\n",
        "\n",
        "class Child(Parent):\n",
        "    def __init__(self, name, age):\n",
        "        self.name = name  # Overrides the attribute from the parent\n",
        "        self.age = age\n",
        "\n",
        "\n",
        "child_instance = Child(\"Vishu\", 5)\n",
        "\n",
        "# Accessing attributes from the child class\n",
        "print(child_instance.name)\n",
        "print(child_instance.age)\n"
      ],
      "metadata": {
        "colab": {
          "base_uri": "https://localhost:8080/"
        },
        "id": "kNLio6mDOaQA",
        "outputId": "15afb776-9a41-4e14-820b-25532f3d741d"
      },
      "execution_count": null,
      "outputs": [
        {
          "output_type": "stream",
          "name": "stdout",
          "text": [
            "Vishu\n",
            "5\n"
          ]
        }
      ]
    },
    {
      "cell_type": "code",
      "source": [
        "#11. Create a Python class called `Shape` with a method `area()` that calculates the area of a shape. Then, create child classes `Circle` and `Rectangle` that inherit from `Shape` and implement the `area()` method accordingly. Provide an example."
      ],
      "metadata": {
        "id": "AxRLxGiBOrZb"
      },
      "execution_count": null,
      "outputs": []
    },
    {
      "cell_type": "code",
      "source": [
        "import math\n",
        "\n",
        "class Shape:\n",
        "    def area(self):\n",
        "        pass  # The method is meant to be overridden by child classes\n",
        "\n",
        "class Circle(Shape):\n",
        "    def __init__(self, radius):\n",
        "        self.radius = radius\n",
        "\n",
        "    def area(self):\n",
        "        return math.pi * self.radius**2\n",
        "\n",
        "class Rectangle(Shape):\n",
        "    def __init__(self, width, height):\n",
        "        self.width = width\n",
        "        self.height = height\n",
        "\n",
        "    def area(self):\n",
        "        return self.width * self.height\n",
        "\n",
        "# Create instances of Circle and Rectangle\n",
        "my_circle = Circle(7)\n",
        "my_rectangle = Rectangle(6, 8)\n",
        "\n",
        "# Calculate and print the area of the shapes\n",
        "print(f\"Area of the Circle: {my_circle.area():.2f}\")\n",
        "print(f\"Area of the Rectangle: {my_rectangle.area()}\")\n"
      ],
      "metadata": {
        "colab": {
          "base_uri": "https://localhost:8080/"
        },
        "id": "hkKwZ7oeO6c8",
        "outputId": "a6c298a0-a22c-4ba2-f729-e206158e1c48"
      },
      "execution_count": null,
      "outputs": [
        {
          "output_type": "stream",
          "name": "stdout",
          "text": [
            "Area of the Circle: 153.94\n",
            "Area of the Rectangle: 48\n"
          ]
        }
      ]
    },
    {
      "cell_type": "code",
      "source": [
        "#12. Explain the use of abstract base classes (ABCs) in Python and how they relate to inheritance. Provide an example using the `abc` module."
      ],
      "metadata": {
        "id": "lUy6iYCYPA-D"
      },
      "execution_count": null,
      "outputs": []
    },
    {
      "cell_type": "code",
      "source": [
        "#Abstract Base Classes (ABCs) in Python are a way to define abstract classes with abstract methods, ensuring that all subclasses that inherit from the ABC implement these methods. ABCs are part of the abc (Abstract Base Classes) module in Python and are useful for enforcing a common interface and behavior among related classes. They promote consistency and provide a mechanism for defining a contract that child classes must adhere to.\n",
        "\n",
        "#Here's how ABCs relate to inheritance:\n",
        "\n",
        "#Abstract Classes: Abstract classes are classes that cannot be instantiated directly.\n",
        "#They are designed to serve as templates or blueprints for other classes (concrete classes) to inherit from.\n",
        "\n",
        "#Abstract Methods: Abstract methods are methods declared in an abstract class but without any implementation.\n",
        "#Subclasses inheriting from an abstract class must provide concrete implementations for these abstract methods. This enforces a specific behavior in all child classes."
      ],
      "metadata": {
        "id": "juVT0q9pPQOy"
      },
      "execution_count": null,
      "outputs": []
    },
    {
      "cell_type": "code",
      "source": [
        "from abc import ABC, abstractmethod\n",
        "\n",
        "# Define an abstract base class\n",
        "class Shape(ABC):\n",
        "    @abstractmethod\n",
        "    def area(self):\n",
        "        pass\n",
        "\n",
        "# Concrete subclasses inheriting from Shape\n",
        "class Circle(Shape):\n",
        "    def __init__(self, radius):\n",
        "        self.radius = radius\n",
        "\n",
        "    def area(self):\n",
        "        return 3.14159 * self.radius ** 2\n",
        "\n",
        "class Rectangle(Shape):\n",
        "    def __init__(self, width, height):\n",
        "        self.width = width\n",
        "        self.height = height\n",
        "\n",
        "    def area(self):\n",
        "        return self.width * self.height\n",
        "\n",
        "# Attempting to create an instance of Shape (abstract class) would result in a TypeError:\n",
        "# my_shape = Shape()  # This will raise an error\n",
        "\n",
        "# Create instances of Circle and Rectangle\n",
        "my_circle = Circle(7)\n",
        "my_rectangle = Rectangle(6, 8)\n",
        "\n",
        "# Calculate and print the area of the shapes\n",
        "print(f\"Area of the Circle: {my_circle.area():.2f}\")\n",
        "print(f\"Area of the Rectangle: {my_rectangle.area()}\")\n"
      ],
      "metadata": {
        "colab": {
          "base_uri": "https://localhost:8080/"
        },
        "id": "V6taiIiSP4ZA",
        "outputId": "f2dfb36e-82ac-42da-b1a7-14a9ed8d26b9"
      },
      "execution_count": null,
      "outputs": [
        {
          "output_type": "stream",
          "name": "stdout",
          "text": [
            "Area of the Circle: 153.94\n",
            "Area of the Rectangle: 48\n"
          ]
        }
      ]
    },
    {
      "cell_type": "code",
      "source": [
        "#13. #How can you prevent a child class from modifying certain attributes or methods inherited from a parent class in Python?"
      ],
      "metadata": {
        "id": "chUTm2FnP6ru"
      },
      "execution_count": null,
      "outputs": []
    },
    {
      "cell_type": "code",
      "source": [
        "class Parent:\n",
        "    def __init__(self):\n",
        "        self._readonly_attribute = \"I'm read-only\"\n",
        "\n",
        "    @property\n",
        "    def readonly_attribute(self):\n",
        "        return self._readonly_attribute\n",
        "\n",
        "class Child(Parent):\n",
        "    pass\n",
        "\n",
        "child_instance = Child()\n",
        "value = child_instance.readonly_attribute  # Can read the attribute\n",
        "# child_instance.readonly_attribute = \"New Value\"  # Cannot modify the read-only attribute\n"
      ],
      "metadata": {
        "id": "dK8YlZAySSm1"
      },
      "execution_count": null,
      "outputs": []
    },
    {
      "cell_type": "code",
      "source": [
        "#14. Create a Python class called `Employee` with attributes `name` and `salary`. Then, create a child class `Manager` that inherits from `Employee` and adds an attribute `department`. Provide an example."
      ],
      "metadata": {
        "id": "1v2GSeDfS1u8"
      },
      "execution_count": null,
      "outputs": []
    },
    {
      "cell_type": "code",
      "source": [
        "class Employee:\n",
        "    def __init__(self, name, salary):\n",
        "        self.name = name\n",
        "        self.salary = salary\n",
        "\n",
        "class Manager(Employee):\n",
        "    def __init__(self, name, salary, department):\n",
        "        super().__init__(name, salary)  # Call the parent class constructor to initialize 'name' and 'salary'\n",
        "        self.department = department\n",
        "\n",
        "# Create an instance of the Manager class\n",
        "manager_instance = Manager(\"Vishu\", 300000, \"OPS\")\n",
        "\n",
        "# Access attributes from both the parent and child classes\n",
        "print(\"Name:\", manager_instance.name)\n",
        "print(\"Salary:\", manager_instance.salary)\n",
        "print(\"Department:\", manager_instance.department)\n"
      ],
      "metadata": {
        "colab": {
          "base_uri": "https://localhost:8080/"
        },
        "id": "OuFMf9sUUWjh",
        "outputId": "debc11f8-10c7-4c99-d86d-b87189df2371"
      },
      "execution_count": null,
      "outputs": [
        {
          "output_type": "stream",
          "name": "stdout",
          "text": [
            "Name: Vishu\n",
            "Salary: 300000\n",
            "Department: OPS\n"
          ]
        }
      ]
    },
    {
      "cell_type": "code",
      "source": [
        "#15. Discuss the concept of method overloading in Python inheritance. How does it differ from method overriding?"
      ],
      "metadata": {
        "id": "bHqeRiYOUaaS"
      },
      "execution_count": null,
      "outputs": []
    },
    {
      "cell_type": "code",
      "source": [
        "class Parent:\n",
        "    def speak(self):\n",
        "        return \"Hello from Parent\"\n",
        "\n",
        "class Child(Parent):\n",
        "    def speak(self):\n",
        "        return \"Hello from Child\"\n",
        "\n",
        "child = Child()\n",
        "result = child.speak()\n",
        "\n",
        "print(result)  # Output: \"Hello from Child\"\n"
      ],
      "metadata": {
        "colab": {
          "base_uri": "https://localhost:8080/"
        },
        "id": "h1gNp_50XvY8",
        "outputId": "2f9b4ce7-ba72-46c6-8205-922e275f1247"
      },
      "execution_count": null,
      "outputs": [
        {
          "output_type": "stream",
          "name": "stdout",
          "text": [
            "Hello from Child\n"
          ]
        }
      ]
    },
    {
      "cell_type": "code",
      "source": [
        "#16. Explain the purpose of the `__init__()` method in Python inheritance and how it is utilized in child classes."
      ],
      "metadata": {
        "id": "2-tcbk5wYDYp"
      },
      "execution_count": null,
      "outputs": []
    },
    {
      "cell_type": "code",
      "source": [
        "#he __init__() method in Python is the constructor method for a class.\n",
        "#It is used to initialize the attributes or properties of an object when an instance of the class is created.\n",
        "# The primary purpose of the __init__() method in Python inheritance is to ensure proper and consistent initialization of both the parent and child classes when an instance of a child class is created. It is also used to pass values to the parent class's constructor."
      ],
      "metadata": {
        "id": "HLqC5kRQZgfo"
      },
      "execution_count": null,
      "outputs": []
    },
    {
      "cell_type": "code",
      "source": [
        "class Parent:\n",
        "    def __init__(self, name):\n",
        "        self.name = name\n",
        "\n",
        "class Child(Parent):\n",
        "    pass\n",
        "\n",
        "child_instance = Child(\"Vishal\")\n",
        "print(child_instance.name)\n"
      ],
      "metadata": {
        "colab": {
          "base_uri": "https://localhost:8080/"
        },
        "id": "CB51i6oOYmQr",
        "outputId": "a8dc1867-8ba0-4655-d209-032ba4f80591"
      },
      "execution_count": null,
      "outputs": [
        {
          "output_type": "stream",
          "name": "stdout",
          "text": [
            "Vishal\n"
          ]
        }
      ]
    },
    {
      "cell_type": "code",
      "source": [
        "class Parent:\n",
        "    def __init__(self, name):\n",
        "        self.name = name\n",
        "\n",
        "class Child(Parent):\n",
        "    def __init__(self, name, age):\n",
        "        super().__init__(name)  # Call the parent class constructor using 'super()'\n",
        "        self.age = age\n",
        "\n",
        "child_instance = Child(\"Vishal\", 5)\n",
        "print(child_instance.name)\n",
        "print(child_instance.age)\n"
      ],
      "metadata": {
        "colab": {
          "base_uri": "https://localhost:8080/"
        },
        "id": "Dnt0ZqDUY8Ec",
        "outputId": "fd4ab6eb-699e-410b-f951-b768b9e67d8e"
      },
      "execution_count": null,
      "outputs": [
        {
          "output_type": "stream",
          "name": "stdout",
          "text": [
            "Vishal\n",
            "5\n"
          ]
        }
      ]
    },
    {
      "cell_type": "code",
      "source": [
        "#17. Create a Python class called `Bird` with a method `fly()`. Then, create child classes `Eagle` and `Sparrow` that inherit from `Bird` and implement the `fly()` method differently. Provide an example of using these classes."
      ],
      "metadata": {
        "id": "ZnSJbtFbZHHJ"
      },
      "execution_count": null,
      "outputs": []
    },
    {
      "cell_type": "code",
      "source": [
        "class Bird:\n",
        "    def fly(self):\n",
        "        return \"Some generic flying bird\"\n",
        "\n",
        "class Eagle(Bird):\n",
        "    def fly(self):\n",
        "        return \"Eagle soars high in the sky\"\n",
        "\n",
        "class Sparrow(Bird):\n",
        "    def fly(self):\n",
        "        return \"Sparrow flits around in the garden\"\n",
        "\n",
        "# Create instances of Eagle and Sparrow\n",
        "my_eagle = Eagle()\n",
        "my_sparrow = Sparrow()\n",
        "\n",
        "\n",
        "print(\"Eagle:\", my_eagle.fly())\n",
        "print(\"Sparrow:\", my_sparrow.fly())\n"
      ],
      "metadata": {
        "colab": {
          "base_uri": "https://localhost:8080/"
        },
        "id": "VscptNGcZ4AC",
        "outputId": "82c51945-bb89-43af-e74e-336ffd9c7356"
      },
      "execution_count": null,
      "outputs": [
        {
          "output_type": "stream",
          "name": "stdout",
          "text": [
            "Eagle: Eagle soars high in the sky\n",
            "Sparrow: Sparrow flits around in the garden\n"
          ]
        }
      ]
    },
    {
      "cell_type": "code",
      "source": [
        "#18. What is the \"diamond problem\" in multiple inheritance, and how does Python address it?"
      ],
      "metadata": {
        "id": "NrTKxJyBadBV"
      },
      "execution_count": null,
      "outputs": []
    },
    {
      "cell_type": "code",
      "source": [
        "class A:\n",
        "    def do_something(self):\n",
        "        return \"Method from class A\"\n",
        "\n",
        "class B(A):\n",
        "    def do_something(self):\n",
        "        return \"Method from class B\"\n",
        "\n",
        "class C(A):\n",
        "    def do_something(self):\n",
        "        return \"Method from class C\"\n",
        "\n",
        "class D(B, C):\n",
        "    def do_something(self):\n",
        "        return super().do_something()  # Calls the next class in the MRO\n",
        "\n",
        "obj = D()\n",
        "result = obj.do_something()\n",
        "print(result)  # Output: \"Method from class B\"\n"
      ],
      "metadata": {
        "colab": {
          "base_uri": "https://localhost:8080/"
        },
        "id": "wfMDURkQaqgf",
        "outputId": "8e449495-f3c7-4d5a-d2c1-aac21f2a1e54"
      },
      "execution_count": null,
      "outputs": [
        {
          "output_type": "stream",
          "name": "stdout",
          "text": [
            "Method from class B\n"
          ]
        }
      ]
    },
    {
      "cell_type": "code",
      "source": [
        "#19. Discuss the concept of \"is-a\" and \"has-a\" relationships in inheritance, and provide examples of each."
      ],
      "metadata": {
        "id": "0OhK42XybA2P"
      },
      "execution_count": null,
      "outputs": []
    },
    {
      "cell_type": "code",
      "source": [
        "#1. \"is-a\" Relationship (Inheritance):\n",
        "\n",
        "#An \"is-a\" courting, additionally referred to as the \"inheritance\" relationship, is used to version a extra precise magnificence as a subclass of a greater preferred class.\n",
        " #This means that the subclass \"is-a\" specialization or kind of the discern magnificence. Inheritance is typically used to proportion commonplace attributes and strategies among training and to promote code reuse."
      ],
      "metadata": {
        "id": "bsHVoz9_bJtr"
      },
      "execution_count": null,
      "outputs": []
    },
    {
      "cell_type": "code",
      "source": [
        "class Animal:\n",
        "    def speak(self):\n",
        "        pass\n",
        "\n",
        "class Dog(Animal):\n",
        "    def speak(self):\n",
        "        return \"Woof! Woof!\"\n",
        "\n",
        "class Cat(Animal):\n",
        "    def speak(self):\n",
        "        return \"Meow! Meow!\"\n"
      ],
      "metadata": {
        "id": "WhyL6m_NbvYu"
      },
      "execution_count": null,
      "outputs": []
    },
    {
      "cell_type": "code",
      "source": [
        "#2. \"has-a\" Relationship (Composition):\n",
        "\n",
        "#A \"has-a\" relationship, also known as \"composition,\" describes a class that contains an instance of another class as one of its attributes. It represents a containment relationship, where one class has or is composed of another class.\n",
        "#This is often used when one class needs to use the functionality of another class without inheriting its behavior."
      ],
      "metadata": {
        "id": "hd6clyjUbwNh"
      },
      "execution_count": null,
      "outputs": []
    },
    {
      "cell_type": "code",
      "source": [
        "class Engine:\n",
        "    def start(self):\n",
        "        return \"Engine started\"\n",
        "\n",
        "class Car:\n",
        "    def __init__(self):\n",
        "        self.engine = Engine()\n",
        "\n",
        "    def start(self):\n",
        "        return self.engine.start()\n",
        "\n",
        "my_car = Car()\n",
        "result = my_car.start()\n"
      ],
      "metadata": {
        "id": "1wLfGOC5cDoL"
      },
      "execution_count": null,
      "outputs": []
    },
    {
      "cell_type": "code",
      "source": [
        "#20. Create a Python class hierarchy for a university system. Start with a base class `Person` and create child classes `Student` and `Professor`, each with their own attributes and methods. Provide an example of using these classes in a university context."
      ],
      "metadata": {
        "id": "Xilv3TAVcMoK"
      },
      "execution_count": null,
      "outputs": []
    },
    {
      "cell_type": "code",
      "source": [
        "class Person:\n",
        "    def __init__(self, name, age, address):\n",
        "        self.name = name\n",
        "        self.age = age\n",
        "        self.address = address\n",
        "\n",
        "    def display_info(self):\n",
        "        return f\"Name: {self.name}, Age: {self.age}, Address: {self.address}\"\n",
        "\n",
        "class Student(Person):\n",
        "    def __init__(self, name, age, address, student_id):\n",
        "        super().__init__(name, age, address)\n",
        "        self.student_id = student_id\n",
        "\n",
        "    def display_info(self):\n",
        "        return f\"Student ID: {self.student_id}, {super().display_info()}\"\n",
        "\n",
        "    def study(self):\n",
        "        return f\"{self.name} is studying hard.\"\n",
        "\n",
        "class Professor(Person):\n",
        "    def __init__(self, name, age, address, employee_id):\n",
        "        super().__init__(name, age, address)\n",
        "        self.employee_id = employee_id\n",
        "\n",
        "    def display_info(self):\n",
        "        return f\"Employee ID: {self.employee_id}, {super().display_info()}\"\n",
        "\n",
        "    def teach(self):\n",
        "        return f\"{self.name} is teaching a class.\"\n",
        "\n",
        "# Example of using the classes in a university context\n",
        "student1 = Student(\"Vishal\", 22, \"133 Main St\", \"S12345\")\n",
        "professor1 = Professor(\"Mr. Sudh\", 32, \"133 Pwskills Class\", \"P9876\")\n",
        "\n",
        "print(student1.display_info())\n",
        "print(professor1.display_info())\n",
        "\n",
        "student1.study()\n",
        "professor1.teach()\n"
      ],
      "metadata": {
        "colab": {
          "base_uri": "https://localhost:8080/",
          "height": 70
        },
        "id": "V89O0E__cbvY",
        "outputId": "c82bc459-5877-4c27-d551-7a1df2ea88ca"
      },
      "execution_count": null,
      "outputs": [
        {
          "output_type": "stream",
          "name": "stdout",
          "text": [
            "Student ID: S12345, Name: Vishal, Age: 22, Address: 133 Main St\n",
            "Employee ID: P9876, Name: Mr. Sudh, Age: 32, Address: 133 Pwskills Class\n"
          ]
        },
        {
          "output_type": "execute_result",
          "data": {
            "text/plain": [
              "'Mr. Sudh is teaching a class.'"
            ],
            "application/vnd.google.colaboratory.intrinsic+json": {
              "type": "string"
            }
          },
          "metadata": {},
          "execution_count": 27
        }
      ]
    },
    {
      "cell_type": "code",
      "source": [],
      "metadata": {
        "id": "fV7TMFSSciHj"
      },
      "execution_count": null,
      "outputs": []
    }
  ]
}